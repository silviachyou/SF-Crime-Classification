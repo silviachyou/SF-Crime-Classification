{
 "cells": [
  {
   "cell_type": "code",
   "execution_count": 19,
   "metadata": {
    "collapsed": false
   },
   "outputs": [],
   "source": [
    "%matplotlib inline\n",
    "import pandas as pd\n",
    "from sklearn.cross_validation import train_test_split\n",
    "from sklearn import preprocessing\n",
    "from sklearn.metrics import log_loss\n",
    "from sklearn.naive_bayes import BernoulliNB\n",
    "from sklearn.linear_model import LogisticRegression\n",
    "import numpy as np\n",
    " \n",
    "#Load Data with pandas, and parse the first column into datetime\n",
    "all_data=pd.read_csv('train2.csv', sep='^', parse_dates = ['Dates'])"
   ]
  },
  {
   "cell_type": "code",
   "execution_count": 2,
   "metadata": {
    "collapsed": false
   },
   "outputs": [],
   "source": [
    "all_data = all_data[all_data.X != -120.5]"
   ]
  },
  {
   "cell_type": "code",
   "execution_count": 3,
   "metadata": {
    "collapsed": true
   },
   "outputs": [],
   "source": [
    "#Convert crime labels to numbers\n",
    "le_crime = preprocessing.LabelEncoder()\n",
    "all_data['crime'] = le_crime.fit_transform(all_data.Category)"
   ]
  },
  {
   "cell_type": "code",
   "execution_count": 4,
   "metadata": {
    "collapsed": false
   },
   "outputs": [],
   "source": [
    "train, non_train = train_test_split(all_data, train_size=.60,random_state=42)\n",
    "valid, test = train_test_split(non_train,train_size=.50,random_state=42)"
   ]
  },
  {
   "cell_type": "code",
   "execution_count": 5,
   "metadata": {
    "collapsed": false
   },
   "outputs": [],
   "source": [
    "max_Y = max(train.Y)\n",
    "min_Y = min(train.Y)\n",
    "max_X = max(train.X)\n",
    "min_X = min(train.X)"
   ]
  },
  {
   "cell_type": "code",
   "execution_count": 6,
   "metadata": {
    "collapsed": false
   },
   "outputs": [
    {
     "name": "stderr",
     "output_type": "stream",
     "text": [
      "/usr/local/lib/python2.7/dist-packages/ipykernel/__main__.py:11: SettingWithCopyWarning: \n",
      "A value is trying to be set on a copy of a slice from a DataFrame.\n",
      "Try using .loc[row_indexer,col_indexer] = value instead\n",
      "\n",
      "See the caveats in the documentation: http://pandas.pydata.org/pandas-docs/stable/indexing.html#indexing-view-versus-copy\n",
      "/usr/local/lib/python2.7/dist-packages/ipykernel/__main__.py:12: SettingWithCopyWarning: \n",
      "A value is trying to be set on a copy of a slice from a DataFrame.\n",
      "Try using .loc[row_indexer,col_indexer] = value instead\n",
      "\n",
      "See the caveats in the documentation: http://pandas.pydata.org/pandas-docs/stable/indexing.html#indexing-view-versus-copy\n"
     ]
    }
   ],
   "source": [
    "# Change this to change grid size\n",
    "grid_size = 20\n",
    "#Get binarized weekdays, districts, and hours.\n",
    "days = pd.get_dummies(train.DayOfWeek)\n",
    "district = pd.get_dummies(train.PdDistrict)\n",
    "hour = train.Dates.dt.hour\n",
    "hour = pd.get_dummies(hour,prefix=\"hour\") \n",
    "month = train.Dates.dt.month\n",
    "month = pd.get_dummies(month,prefix=\"month\")\n",
    "\n",
    "train['grid_X'] = pd.DataFrame((train.X - min_X)/(max_X - min_X) * grid_size).astype(int)\n",
    "train['grid_Y'] = ((train.Y - min_Y)/(max_Y - min_Y) * grid_size).astype(int)\n",
    "grid_features = pd.get_dummies(train.grid_X).join(pd.get_dummies(train.grid_Y),lsuffix=\"_X\",rsuffix=\"_Y\")\n",
    "\n",
    "#Build new array\n",
    "train_data = pd.concat([hour, days, month, grid_features, district], axis=1)\n"
   ]
  },
  {
   "cell_type": "code",
   "execution_count": 7,
   "metadata": {
    "collapsed": false
   },
   "outputs": [
    {
     "name": "stderr",
     "output_type": "stream",
     "text": [
      "/usr/local/lib/python2.7/dist-packages/ipykernel/__main__.py:11: SettingWithCopyWarning: \n",
      "A value is trying to be set on a copy of a slice from a DataFrame.\n",
      "Try using .loc[row_indexer,col_indexer] = value instead\n",
      "\n",
      "See the caveats in the documentation: http://pandas.pydata.org/pandas-docs/stable/indexing.html#indexing-view-versus-copy\n",
      "/usr/local/lib/python2.7/dist-packages/ipykernel/__main__.py:12: SettingWithCopyWarning: \n",
      "A value is trying to be set on a copy of a slice from a DataFrame.\n",
      "Try using .loc[row_indexer,col_indexer] = value instead\n",
      "\n",
      "See the caveats in the documentation: http://pandas.pydata.org/pandas-docs/stable/indexing.html#indexing-view-versus-copy\n"
     ]
    }
   ],
   "source": [
    "\n",
    "#Repeat for test data\n",
    "days = pd.get_dummies(valid.DayOfWeek)\n",
    "district = pd.get_dummies(valid.PdDistrict)\n",
    "\n",
    "hour = valid.Dates.dt.hour\n",
    "hour = pd.get_dummies(hour,prefix=\"hour\") \n",
    "month = valid.Dates.dt.month\n",
    "month = pd.get_dummies(month,prefix=\"month\")\n",
    "\n",
    "valid['grid_X'] = ((valid.X - min_X)/(max_X - min_X) * grid_size).astype(int)\n",
    "valid['grid_Y'] = ((valid.Y - min_Y)/(max_Y - min_Y) * grid_size).astype(int)\n",
    "grid_features = pd.get_dummies(valid.grid_X).join(pd.get_dummies(valid.grid_Y),lsuffix=\"_X\",rsuffix=\"_Y\")\n",
    "\n",
    "valid_data = pd.concat([hour, days, month, grid_features, district], axis=1)\n",
    "#valid_data['crime']=valid_crime"
   ]
  },
  {
   "cell_type": "code",
   "execution_count": 8,
   "metadata": {
    "collapsed": false
   },
   "outputs": [],
   "source": [
    "features = ['hour_0','hour_1','hour_2','hour_3','hour_4','hour_5','hour_6','hour_7','hour_8','hour_9',\n",
    "            'hour_10','hour_11','hour_12','hour_13','hour_14','hour_15','hour_16','hour_17','hour_18','hour_19',\n",
    "            'hour_20','hour_21','hour_22','hour_23','month_1','month_2','month_3','month_4','month_5','month_6',\n",
    "            'month_7','month_8','month_9','month_10','month_11','month_12',\n",
    "            '0_X','1_X','2_X','3_X','4_X','5_X','6_X','7_X','8_X','9_X','10_X','11_X',\n",
    "            '12_X','13_X','14_X','15_X','16_X','17_X','18_X','19_X',\n",
    "            '0_Y','1_Y','2_Y','3_Y','4_Y','5_Y','6_Y','7_Y','8_Y','9_Y','10_Y','11_Y',\n",
    "            '12_Y','13_Y','14_Y','15_Y','16_Y','17_Y','18_Y','19_Y',\n",
    "            'Friday', 'Monday', 'Saturday', 'Sunday', 'Thursday', 'Tuesday',\n",
    " 'Wednesday', 'BAYVIEW', 'CENTRAL', 'INGLESIDE', 'MISSION',\n",
    " 'NORTHERN', 'PARK', 'RICHMOND', 'SOUTHERN', 'TARAVAL', 'TENDERLOIN']\n",
    " \n"
   ]
  },
  {
   "cell_type": "code",
   "execution_count": 43,
   "metadata": {
    "collapsed": true
   },
   "outputs": [],
   "source": [
    "features = ['hour_0','hour_1','hour_2','hour_3','hour_4','hour_5','hour_6','hour_7','hour_8','hour_9',\n",
    "            'hour_10','hour_11','hour_12','hour_13','hour_14','hour_15','hour_16','hour_17','hour_18','hour_19',\n",
    "            'hour_20','hour_21','hour_22','hour_23','month_1','month_2','month_3','month_4','month_5','month_6',\n",
    "            'month_7','month_8','month_9','month_10','month_11','month_12',\n",
    "            '0_X','1_X','2_X','3_X','4_X','5_X','6_X','7_X',\n",
    "            '0_Y','1_Y','2_Y','3_Y','4_Y','5_Y','6_Y','7_Y','Friday', 'Monday', 'Saturday', 'Sunday', 'Thursday', 'Tuesday',\n",
    " 'Wednesday']"
   ]
  },
  {
   "cell_type": "code",
   "execution_count": 9,
   "metadata": {
    "collapsed": false
   },
   "outputs": [
    {
     "name": "stdout",
     "output_type": "stream",
     "text": [
      "2.66695415457\n"
     ]
    },
    {
     "name": "stderr",
     "output_type": "stream",
     "text": [
      "/usr/local/lib/python2.7/dist-packages/numpy/core/fromnumeric.py:2641: VisibleDeprecationWarning: `rank` is deprecated; use the `ndim` attribute or function instead. To find the rank of a matrix see `numpy.linalg.matrix_rank`.\n",
      "  VisibleDeprecationWarning)\n"
     ]
    },
    {
     "data": {
      "text/plain": [
       "2.5519708538204706"
      ]
     },
     "execution_count": 9,
     "metadata": {},
     "output_type": "execute_result"
    }
   ],
   "source": [
    "NBmodel = BernoulliNB()\n",
    "NBmodel.fit(train_data[features], train['crime'])\n",
    "NBpredicted = np.array(NBmodel.predict_proba(valid_data[features]))\n",
    "print log_loss(valid['crime'], NBpredicted) \n",
    " \n",
    "#Logistic Regression for comparison\n",
    "LRmodel = LogisticRegression(C=.01)\n",
    "LRmodel.fit(train_data[features], train['crime'])\n",
    "LRpredicted = np.array(LRmodel.predict_proba(valid_data[features]))\n",
    "log_loss(valid['crime'], LRpredicted)"
   ]
  },
  {
   "cell_type": "code",
   "execution_count": null,
   "metadata": {
    "collapsed": false
   },
   "outputs": [],
   "source": [
    "# Don't use SVC, takes too long to run....and LinearSVC doesn't do probabilities\n",
    "#from sklearn.svm import LinearSVC, SVC\n",
    "#SVCmodel = SVC(tol=1e-3,probability=True)\n",
    "#SVCmodel.fit(train_data[features], train['crime'])\n",
    "#SVCpredicted = np.array(SVCmodel.predict_proba(valid_data[features]))\n",
    "#print log_loss(valid['crime'], SVCpredicted) "
   ]
  },
  {
   "cell_type": "code",
   "execution_count": 11,
   "metadata": {
    "collapsed": false
   },
   "outputs": [
    {
     "name": "stdout",
     "output_type": "stream",
     "text": [
      "2.49590832116\n"
     ]
    }
   ],
   "source": [
    "from sklearn.ensemble import RandomForestClassifier\n",
    "RFmodel = RandomForestClassifier(n_estimators=200, max_depth=20)\n",
    "RFmodel.fit(train_data[features], train['crime'])\n",
    "RFpredicted = np.array(RFmodel.predict_proba(valid_data[features]))\n",
    "print log_loss(valid['crime'], RFpredicted) "
   ]
  },
  {
   "cell_type": "code",
   "execution_count": 95,
   "metadata": {
    "collapsed": false
   },
   "outputs": [
    {
     "name": "stdout",
     "output_type": "stream",
     "text": [
      "0.217630242147\n",
      "0.235734299187\n"
     ]
    },
    {
     "ename": "KeyboardInterrupt",
     "evalue": "",
     "output_type": "error",
     "traceback": [
      "\u001b[1;31m---------------------------------------------------------------------------\u001b[0m",
      "\u001b[1;31mKeyboardInterrupt\u001b[0m                         Traceback (most recent call last)",
      "\u001b[1;32m<ipython-input-95-b0ed5826c5db>\u001b[0m in \u001b[0;36m<module>\u001b[1;34m()\u001b[0m\n\u001b[0;32m      8\u001b[0m \u001b[1;32mprint\u001b[0m \u001b[0mLR_valid_accuracy\u001b[0m\u001b[1;33m\u001b[0m\u001b[0m\n\u001b[0;32m      9\u001b[0m \u001b[1;33m\u001b[0m\u001b[0m\n\u001b[1;32m---> 10\u001b[1;33m \u001b[0mRFpredi\u001b[0m \u001b[1;33m=\u001b[0m \u001b[0mRFmodel\u001b[0m\u001b[1;33m.\u001b[0m\u001b[0mpredict\u001b[0m\u001b[1;33m(\u001b[0m\u001b[0mvalid_data\u001b[0m\u001b[1;33m[\u001b[0m\u001b[0mfeatures\u001b[0m\u001b[1;33m]\u001b[0m\u001b[1;33m)\u001b[0m\u001b[1;33m\u001b[0m\u001b[0m\n\u001b[0m\u001b[0;32m     11\u001b[0m \u001b[0mRF_valid_accuracy\u001b[0m \u001b[1;33m=\u001b[0m \u001b[0mmetrics\u001b[0m\u001b[1;33m.\u001b[0m\u001b[0maccuracy_score\u001b[0m\u001b[1;33m(\u001b[0m\u001b[0mvalid\u001b[0m\u001b[1;33m[\u001b[0m\u001b[1;34m'crime'\u001b[0m\u001b[1;33m]\u001b[0m\u001b[1;33m,\u001b[0m \u001b[0mRFpredi\u001b[0m\u001b[1;33m)\u001b[0m\u001b[1;33m\u001b[0m\u001b[0m\n\u001b[0;32m     12\u001b[0m \u001b[1;32mprint\u001b[0m \u001b[0mRF_valid_accuracy\u001b[0m\u001b[1;33m\u001b[0m\u001b[0m\n",
      "\u001b[1;32m/usr/local/lib/python2.7/dist-packages/sklearn/ensemble/forest.pyc\u001b[0m in \u001b[0;36mpredict\u001b[1;34m(self, X)\u001b[0m\n\u001b[0;32m    496\u001b[0m             \u001b[0mThe\u001b[0m \u001b[0mpredicted\u001b[0m \u001b[0mclasses\u001b[0m\u001b[1;33m.\u001b[0m\u001b[1;33m\u001b[0m\u001b[0m\n\u001b[0;32m    497\u001b[0m         \"\"\"\n\u001b[1;32m--> 498\u001b[1;33m         \u001b[0mproba\u001b[0m \u001b[1;33m=\u001b[0m \u001b[0mself\u001b[0m\u001b[1;33m.\u001b[0m\u001b[0mpredict_proba\u001b[0m\u001b[1;33m(\u001b[0m\u001b[0mX\u001b[0m\u001b[1;33m)\u001b[0m\u001b[1;33m\u001b[0m\u001b[0m\n\u001b[0m\u001b[0;32m    499\u001b[0m \u001b[1;33m\u001b[0m\u001b[0m\n\u001b[0;32m    500\u001b[0m         \u001b[1;32mif\u001b[0m \u001b[0mself\u001b[0m\u001b[1;33m.\u001b[0m\u001b[0mn_outputs_\u001b[0m \u001b[1;33m==\u001b[0m \u001b[1;36m1\u001b[0m\u001b[1;33m:\u001b[0m\u001b[1;33m\u001b[0m\u001b[0m\n",
      "\u001b[1;32m/usr/local/lib/python2.7/dist-packages/sklearn/ensemble/forest.pyc\u001b[0m in \u001b[0;36mpredict_proba\u001b[1;34m(self, X)\u001b[0m\n\u001b[0;32m    552\u001b[0m         \u001b[1;32mif\u001b[0m \u001b[0mself\u001b[0m\u001b[1;33m.\u001b[0m\u001b[0mn_outputs_\u001b[0m \u001b[1;33m==\u001b[0m \u001b[1;36m1\u001b[0m\u001b[1;33m:\u001b[0m\u001b[1;33m\u001b[0m\u001b[0m\n\u001b[0;32m    553\u001b[0m             \u001b[1;32mfor\u001b[0m \u001b[0mj\u001b[0m \u001b[1;32min\u001b[0m \u001b[0mrange\u001b[0m\u001b[1;33m(\u001b[0m\u001b[1;36m1\u001b[0m\u001b[1;33m,\u001b[0m \u001b[0mlen\u001b[0m\u001b[1;33m(\u001b[0m\u001b[0mall_proba\u001b[0m\u001b[1;33m)\u001b[0m\u001b[1;33m)\u001b[0m\u001b[1;33m:\u001b[0m\u001b[1;33m\u001b[0m\u001b[0m\n\u001b[1;32m--> 554\u001b[1;33m                 \u001b[0mproba\u001b[0m \u001b[1;33m+=\u001b[0m \u001b[0mall_proba\u001b[0m\u001b[1;33m[\u001b[0m\u001b[0mj\u001b[0m\u001b[1;33m]\u001b[0m\u001b[1;33m\u001b[0m\u001b[0m\n\u001b[0m\u001b[0;32m    555\u001b[0m \u001b[1;33m\u001b[0m\u001b[0m\n\u001b[0;32m    556\u001b[0m             \u001b[0mproba\u001b[0m \u001b[1;33m/=\u001b[0m \u001b[0mlen\u001b[0m\u001b[1;33m(\u001b[0m\u001b[0mself\u001b[0m\u001b[1;33m.\u001b[0m\u001b[0mestimators_\u001b[0m\u001b[1;33m)\u001b[0m\u001b[1;33m\u001b[0m\u001b[0m\n",
      "\u001b[1;31mKeyboardInterrupt\u001b[0m: "
     ]
    }
   ],
   "source": [
    "from sklearn import metrics\n",
    "NBpredi = NBmodel.predict(valid_data[features])\n",
    "NB_valid_accuracy = metrics.accuracy_score(valid['crime'], NBpredi)\n",
    "print NB_valid_accuracy\n",
    "\n",
    "LRpredi = LRmodel.predict(valid_data[features])\n",
    "LR_valid_accuracy = metrics.accuracy_score(valid['crime'], LRpredi)\n",
    "print LR_valid_accuracy\n",
    "\n",
    "RFpredi = RFmodel.predict(valid_data[features])\n",
    "RF_valid_accuracy = metrics.accuracy_score(valid['crime'], RFpredi)\n",
    "print RF_valid_accuracy"
   ]
  },
  {
   "cell_type": "code",
   "execution_count": 16,
   "metadata": {
    "collapsed": false
   },
   "outputs": [
    {
     "name": "stdout",
     "output_type": "stream",
     "text": [
      "2.61199910245\n"
     ]
    }
   ],
   "source": [
    "from sklearn.ensemble import GradientBoostingClassifier\n",
    "GBmodel = GradientBoostingClassifier(n_estimators=100, max_depth=3)\n",
    "GBmodel.fit(train_data[features], train['crime'])\n",
    "GBpredicted = np.array(GBmodel.predict_proba(valid_data[features]))\n",
    "print log_loss(valid['crime'], GBpredicted) "
   ]
  },
  {
   "cell_type": "code",
   "execution_count": 12,
   "metadata": {
    "collapsed": false
   },
   "outputs": [
    {
     "name": "stdout",
     "output_type": "stream",
     "text": [
      "2.67130533902\n",
      "2.5532345046\n",
      "2.49744642365\n"
     ]
    },
    {
     "name": "stderr",
     "output_type": "stream",
     "text": [
      "/usr/local/lib/python2.7/dist-packages/ipykernel/__main__.py:10: SettingWithCopyWarning: \n",
      "A value is trying to be set on a copy of a slice from a DataFrame.\n",
      "Try using .loc[row_indexer,col_indexer] = value instead\n",
      "\n",
      "See the caveats in the documentation: http://pandas.pydata.org/pandas-docs/stable/indexing.html#indexing-view-versus-copy\n",
      "/usr/local/lib/python2.7/dist-packages/ipykernel/__main__.py:11: SettingWithCopyWarning: \n",
      "A value is trying to be set on a copy of a slice from a DataFrame.\n",
      "Try using .loc[row_indexer,col_indexer] = value instead\n",
      "\n",
      "See the caveats in the documentation: http://pandas.pydata.org/pandas-docs/stable/indexing.html#indexing-view-versus-copy\n"
     ]
    }
   ],
   "source": [
    "#Repeat for test data\n",
    "days = pd.get_dummies(test.DayOfWeek)\n",
    "district = pd.get_dummies(test.PdDistrict)\n",
    "\n",
    "hour = test.Dates.dt.hour\n",
    "hour = pd.get_dummies(hour,prefix=\"hour\") \n",
    "month = test.Dates.dt.month\n",
    "month = pd.get_dummies(month,prefix=\"month\")\n",
    "\n",
    "test['grid_X'] = ((test.X - min_X)/(max_X - min_X) * grid_size).astype(int)\n",
    "test['grid_Y'] = ((test.Y - min_Y)/(max_Y - min_Y) * grid_size).astype(int)\n",
    "grid_features = pd.get_dummies(test.grid_X).join(pd.get_dummies(test.grid_Y),lsuffix=\"_X\",rsuffix=\"_Y\")\n",
    "\n",
    "test_data = pd.concat([hour, days, month, grid_features, district], axis=1)\n",
    "\n",
    "predicted = np.array(NBmodel.predict_proba(test_data[features]))\n",
    "print log_loss(test['crime'], predicted) \n",
    "\n",
    "predicted = np.array(LRmodel.predict_proba(test_data[features]))\n",
    "print log_loss(test['crime'], predicted) \n",
    "\n",
    "predicted = np.array(RFmodel.predict_proba(test_data[features]))\n",
    "print log_loss(test['crime'], predicted) "
   ]
  },
  {
   "cell_type": "code",
   "execution_count": 13,
   "metadata": {
    "collapsed": false
   },
   "outputs": [
    {
     "name": "stdout",
     "output_type": "stream",
     "text": [
      "0.215971799063\n",
      "0.233386675171\n",
      "0.24862611548\n"
     ]
    }
   ],
   "source": [
    "from sklearn import metrics\n",
    "NBpredi = NBmodel.predict(test_data[features])\n",
    "NB_test_accuracy = metrics.accuracy_score(test['crime'], NBpredi)\n",
    "print NB_test_accuracy\n",
    "\n",
    "LRpredi = LRmodel.predict(test_data[features])\n",
    "LR_test_accuracy = metrics.accuracy_score(test['crime'], LRpredi)\n",
    "print LR_test_accuracy\n",
    "\n",
    "RFpredi = RFmodel.predict(test_data[features])\n",
    "RF_test_accuracy = metrics.accuracy_score(test['crime'], RFpredi)\n",
    "print RF_test_accuracy"
   ]
  },
  {
   "cell_type": "code",
   "execution_count": 17,
   "metadata": {
    "collapsed": false
   },
   "outputs": [],
   "source": [
    "# calculate Confusion Matrices\n",
    "from sklearn.metrics import confusion_matrix\n",
    "\n",
    "conf_rf = confusion_matrix(test['crime'], RFpredi) # RF"
   ]
  },
  {
   "cell_type": "code",
   "execution_count": 18,
   "metadata": {
    "collapsed": false
   },
   "outputs": [],
   "source": [
    "np.savetxt('conf_rf.txt', conf_rf, fmt='%d', delimiter=' ', newline='\\n', header='', footer='', comments='# ')\n",
    "conf_rf=conf_rf.astype(float)"
   ]
  },
  {
   "cell_type": "code",
   "execution_count": 28,
   "metadata": {
    "collapsed": false
   },
   "outputs": [
    {
     "data": {
      "image/png": "[encoded data removed]",
      "text/plain": [
       "<matplotlib.figure.Figure at 0x7f737f5ae210>"
      ]
     },
     "metadata": {},
     "output_type": "display_data"
    }
   ],
   "source": [
    "import matplotlib.pyplot as plt\n",
    "\n",
    "# Plot confusion matrix for RF\n",
    "plt.pcolor(np.log1p(conf_rf),cmap=plt.cm.Reds,edgecolors='k')\n",
    "plt.ylabel('Actual Class')\n",
    "plt.xlabel('Predicted Class')\n",
    "plt.title('Confusion Matrix for Random Forest')\n",
    "plt.show()"
   ]
  },
  {
   "cell_type": "code",
   "execution_count": 27,
   "metadata": {
    "collapsed": false
   },
   "outputs": [],
   "source": [
    "import matplotlib.pylab as pylab\n",
    "pylab.rcParams['figure.figsize'] = (24.0, 16.0)"
   ]
  },
  {
   "cell_type": "code",
   "execution_count": 32,
   "metadata": {
    "collapsed": false
   },
   "outputs": [
    {
     "data": {
      "text/plain": [
       "'NON-CRIMINAL'"
      ]
     },
     "execution_count": 32,
     "metadata": {},
     "output_type": "execute_result"
    }
   ],
   "source": [
    "le_crime.inverse_transform(20)"
   ]
  },
  {
   "cell_type": "code",
   "execution_count": null,
   "metadata": {
    "collapsed": true
   },
   "outputs": [],
   "source": []
  }
 ],
 "metadata": {
  "kernelspec": {
   "display_name": "Python 2",
   "language": "python",
   "name": "python2"
  },
  "language_info": {
   "codemirror_mode": {
    "name": "ipython",
    "version": 2
   },
   "file_extension": ".py",
   "mimetype": "text/x-python",
   "name": "python",
   "nbconvert_exporter": "python",
   "pygments_lexer": "ipython2",
   "version": "2.7.6"
  }
 },
 "nbformat": 4,
 "nbformat_minor": 0
}
